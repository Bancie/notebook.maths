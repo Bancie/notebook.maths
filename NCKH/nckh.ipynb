{
 "cells": [
  {
   "cell_type": "markdown",
   "metadata": {},
   "source": [
    "# NCKH"
   ]
  },
  {
   "cell_type": "markdown",
   "metadata": {},
   "source": [
    "## Contents\n",
    "- [Thuật toán nhánh cận](https://github.com/Bancie/notebook.maths/blob/main/NCKH/nckh.ipynb) \n",
    "- [Thuật toán nhánh cận](https://github.com/Bancie/notebook.maths/blob/655f128beb28fceb01d29f70adc60d893350239b/NCKH/nckh.ipynb) "
   ]
  },
  {
   "cell_type": "markdown",
   "metadata": {},
   "source": [
    "## Thuật toán nhánh cận"
   ]
  },
  {
   "cell_type": "markdown",
   "metadata": {},
   "source": [
    "### Ví dụ minh hoạ"
   ]
  },
  {
   "cell_type": "markdown",
   "metadata": {},
   "source": [
    "$$\n",
    "\\begin{split}\n",
    "    (P) \\quad z_p= & 5.5x_1 + 2.1x_2 \\quad \\longrightarrow Max \\\\\n",
    "    & \\left\\{\\begin{split}\n",
    "    & -x_1 + x_2 \\leq 2 \\\\\n",
    "    & 8x_1 + 2x_2 \\leq 17 \\\\\n",
    "    &x_1 \\geq 0, \\text{nguyên} \\\\\n",
    "    &x_2 \\geq 0. \\\\\n",
    "    \\end{split}\\right. \\\\\n",
    "\\end{split}\n",
    "$$"
   ]
  },
  {
   "cell_type": "code",
   "execution_count": 16,
   "metadata": {},
   "outputs": [
    {
     "name": "stdout",
     "output_type": "stream",
     "text": [
      "Gia tri toi uu = -14.08\n",
      "Bien toi uu = [1.3 3.3]\n"
     ]
    }
   ],
   "source": [
    "from scipy.optimize import linprog\n",
    "\n",
    "c = [-5.5, -2.1]\n",
    "A = [[-1, 1], [8, 2]]\n",
    "b = [2, 17]\n",
    "\n",
    "x0_bounds = (None, None)\n",
    "x1_bounds = (0, None)\n",
    "\n",
    "res = linprog(c, A_ub=A, b_ub=b, bounds=[x0_bounds, x1_bounds])\n",
    "\n",
    "print('Gia tri toi uu =', res.fun)\n",
    "print('Bien toi uu =', res.x)"
   ]
  },
  {
   "cell_type": "markdown",
   "metadata": {},
   "source": [
    "---"
   ]
  },
  {
   "cell_type": "markdown",
   "metadata": {},
   "source": [
    "Chọn $x_1=1.3$ để cải thiện phương án cho bài toán $P$\n",
    "- Với $x_1 \\leq 1$"
   ]
  },
  {
   "cell_type": "markdown",
   "metadata": {},
   "source": [
    "$$\n",
    "\\begin{split}\n",
    "    (P_1) \\quad z_1= & 5.5x_1 + 2.1x_2 \\quad \\longrightarrow Max \\\\\n",
    "    & \\left\\{\\begin{split}\n",
    "    & -x_1 + x_2 \\leq 2 \\\\\n",
    "    & 8x_1 + 2x_2 \\leq 17 \\\\\n",
    "    & \\color{blue} x_1 \\leq 1 \\\\\n",
    "    &x_1 \\geq 0, \\text{nguyên} \\\\\n",
    "    &x_2 \\geq 0. \\\\\n",
    "    \\end{split}\\right. \\\\\n",
    "\\end{split}\n",
    "$$"
   ]
  },
  {
   "cell_type": "code",
   "execution_count": 17,
   "metadata": {},
   "outputs": [
    {
     "name": "stdout",
     "output_type": "stream",
     "text": [
      "Gia tri toi uu = -11.8\n",
      "Bien toi uu = [1. 3.]\n"
     ]
    }
   ],
   "source": [
    "from scipy.optimize import linprog\n",
    "\n",
    "c = [-5.5, -2.1]\n",
    "A = [[-1, 1], [8, 2], [1, 0]]\n",
    "b = [2, 17, 1]\n",
    "\n",
    "x0_bounds = (None, None)\n",
    "x1_bounds = (0, None)\n",
    "\n",
    "res = linprog(c, A_ub=A, b_ub=b, bounds=[x0_bounds, x1_bounds])\n",
    "\n",
    "print('Gia tri toi uu =', res.fun)\n",
    "print('Bien toi uu =', res.x)"
   ]
  },
  {
   "cell_type": "markdown",
   "metadata": {},
   "source": [
    "- Với $x_1 \\geq 2$"
   ]
  },
  {
   "cell_type": "markdown",
   "metadata": {},
   "source": [
    "$$\n",
    "\\begin{split}\n",
    "    (P_2) \\quad z_2= & 5.5x_1 + 2.1x_2  \\\\\n",
    "    & \\left\\{\\begin{split}\n",
    "    & -x_1 + x_2 \\leq 2 \\\\\n",
    "    & 8x_1 + 2x_2 \\leq 17 \\\\\n",
    "    & \\color{blue} x_1 \\geq 2 \\\\\n",
    "    &x_1 \\geq 0, \\text{nguyên} \\\\\n",
    "    &x_2 \\geq 0. \\\\\n",
    "    \\end{split}\\right. \\\\\n",
    "\\end{split}\n",
    "$$"
   ]
  },
  {
   "cell_type": "code",
   "execution_count": 19,
   "metadata": {},
   "outputs": [
    {
     "name": "stdout",
     "output_type": "stream",
     "text": [
      "Gia tri toi uu = -12.05\n",
      "Bien toi uu = [2.  0.5]\n"
     ]
    }
   ],
   "source": [
    "from scipy.optimize import linprog\n",
    "\n",
    "c = [-5.5, -2.1]\n",
    "A = [[-1, 1], [8, 2], [-1, 0]]\n",
    "b = [2, 17, -2]\n",
    "\n",
    "x0_bounds = (None, None)\n",
    "x1_bounds = (0, None)\n",
    "\n",
    "res = linprog(c, A_ub=A, b_ub=b, bounds=[x0_bounds, x1_bounds])\n",
    "\n",
    "print('Gia tri toi uu =', res.fun)\n",
    "print('Bien toi uu =', res.x)"
   ]
  },
  {
   "cell_type": "markdown",
   "metadata": {},
   "source": [
    "Chọn $x_2=0.5$ để cải thiện phương án cho $P_2$\n",
    "- Với $x_2 \\leq 0$"
   ]
  },
  {
   "cell_type": "markdown",
   "metadata": {},
   "source": [
    "$$\n",
    "\\begin{split}\n",
    "    (P_3) \\quad z_3= & 5.5x_1 + 2.1x_2 \\\\\n",
    "    & \\left\\{\\begin{split}\n",
    "    & -x_1 + x_2 \\leq 2 \\\\\n",
    "    & 8x_1 + 2x_2 \\leq 17 \\\\\n",
    "    & \\color{blue} x_1 \\geq 2 \\\\\n",
    "    & \\color{blue} x_2 \\leq 0 \\\\\n",
    "    &x_1 \\geq 0, \\text{nguyên} \\\\\n",
    "    &x_2 \\geq 0. \\\\\n",
    "    \\end{split}\\right. \\\\\n",
    "\\end{split}\n",
    "$$"
   ]
  },
  {
   "cell_type": "code",
   "execution_count": 21,
   "metadata": {},
   "outputs": [
    {
     "name": "stdout",
     "output_type": "stream",
     "text": [
      "Gia tri toi uu = -11.6875\n",
      "Bien toi uu = [ 2.125 -0.   ]\n"
     ]
    }
   ],
   "source": [
    "from scipy.optimize import linprog\n",
    "\n",
    "c = [-5.5, -2.1]\n",
    "A = [[-1, 1], [8, 2], [-1, 0], [0, 1]]\n",
    "b = [2, 17, -2, 0]\n",
    "\n",
    "x0_bounds = (None, None)\n",
    "x1_bounds = (0, None)\n",
    "\n",
    "res = linprog(c, A_ub=A, b_ub=b, bounds=[x0_bounds, x1_bounds])\n",
    "\n",
    "print('Gia tri toi uu =', res.fun)\n",
    "print('Bien toi uu =', res.x)"
   ]
  },
  {
   "cell_type": "markdown",
   "metadata": {},
   "source": [
    "- Với $x_2 \\geq 1$"
   ]
  },
  {
   "cell_type": "markdown",
   "metadata": {},
   "source": [
    "$$\n",
    "\\begin{split}\n",
    "    (P_4) \\quad z_4= & 5.5x_1 + 2.1x_2  \\\\\n",
    "    & \\left\\{\\begin{split}\n",
    "    & -x_1 + x_2 \\leq 2 \\\\\n",
    "    & 8x_1 + 2x_2 \\leq 17 \\\\\n",
    "    & \\color{blue} x_1 \\geq 2 \\\\\n",
    "    & \\color{blue} x_2 \\geq 1 \\\\\n",
    "    &x_1 \\geq 0, \\text{nguyên} \\\\\n",
    "    &x_2 \\geq 0. \\\\\n",
    "    \\end{split}\\right. \\\\\n",
    "\\end{split}\n",
    "$$"
   ]
  },
  {
   "cell_type": "code",
   "execution_count": 22,
   "metadata": {},
   "outputs": [
    {
     "name": "stdout",
     "output_type": "stream",
     "text": [
      "Gia tri toi uu = None\n",
      "Bien toi uu = None\n"
     ]
    }
   ],
   "source": [
    "from scipy.optimize import linprog\n",
    "\n",
    "c = [-5.5, -2.1]\n",
    "A = [[-1, 1], [8, 2], [-1, 0], [0, -1]]\n",
    "b = [2, 17, -2, -1]\n",
    "\n",
    "x0_bounds = (None, None)\n",
    "x1_bounds = (0, None)\n",
    "\n",
    "res = linprog(c, A_ub=A, b_ub=b, bounds=[x0_bounds, x1_bounds])\n",
    "\n",
    "print('Gia tri toi uu =', res.fun)\n",
    "print('Bien toi uu =', res.x)"
   ]
  },
  {
   "cell_type": "markdown",
   "metadata": {},
   "source": [
    "---"
   ]
  },
  {
   "cell_type": "markdown",
   "metadata": {},
   "source": [
    "### Ví dụ minh hoạ"
   ]
  },
  {
   "cell_type": "markdown",
   "metadata": {},
   "source": [
    "$$\n",
    "\\begin{split}\n",
    "    (P) \\quad z_p= & 5.5x_1 + 2.1x_2 \\quad \\longrightarrow Max \\\\\n",
    "    & \\left\\{\\begin{split}\n",
    "    & -x_1 + x_2 \\leq 2 \\\\\n",
    "    & 8x_1 + 2x_2 \\leq 17 \\\\\n",
    "    &x_1 \\geq 0, \\text{nguyên} \\\\\n",
    "    &x_2 \\geq 0. \\\\\n",
    "    \\end{split}\\right. \\\\\n",
    "\\end{split}\n",
    "$$"
   ]
  },
  {
   "cell_type": "code",
   "execution_count": null,
   "metadata": {},
   "outputs": [
    {
     "name": "stdout",
     "output_type": "stream",
     "text": [
      "Gia tri toi uu = -14.08\n",
      "Bien toi uu = [1.3 3.3]\n"
     ]
    }
   ],
   "source": [
    "from scipy.optimize import linprog\n",
    "\n",
    "c = [-5.5, -2.1]\n",
    "A = [[-1, 1], [8, 2]]\n",
    "b = [2, 17]\n",
    "\n",
    "x0_bounds = (None, None)\n",
    "x1_bounds = (0, None)\n",
    "\n",
    "res = linprog(c, A_ub=A, b_ub=b, bounds=[x0_bounds, x1_bounds])\n",
    "\n",
    "print('Gia tri toi uu =', res.fun)\n",
    "print('Bien toi uu =', res.x)"
   ]
  },
  {
   "cell_type": "markdown",
   "metadata": {},
   "source": [
    "---"
   ]
  },
  {
   "cell_type": "markdown",
   "metadata": {},
   "source": [
    "Chọn $x_1=1.3$ để cải thiện phương án cho bài toán $P$\n",
    "- Với $x_1 \\leq 1$"
   ]
  },
  {
   "cell_type": "markdown",
   "metadata": {},
   "source": [
    "$$\n",
    "\\begin{split}\n",
    "    (P_1) \\quad z_1= & 5.5x_1 + 2.1x_2 \\quad \\longrightarrow Max \\\\\n",
    "    & \\left\\{\\begin{split}\n",
    "    & -x_1 + x_2 \\leq 2 \\\\\n",
    "    & 8x_1 + 2x_2 \\leq 17 \\\\\n",
    "    & \\color{blue} x_1 \\leq 1 \\\\\n",
    "    &x_1 \\geq 0, \\text{nguyên} \\\\\n",
    "    &x_2 \\geq 0. \\\\\n",
    "    \\end{split}\\right. \\\\\n",
    "\\end{split}\n",
    "$$"
   ]
  },
  {
   "cell_type": "code",
   "execution_count": null,
   "metadata": {},
   "outputs": [
    {
     "name": "stdout",
     "output_type": "stream",
     "text": [
      "Gia tri toi uu = -11.8\n",
      "Bien toi uu = [1. 3.]\n"
     ]
    }
   ],
   "source": [
    "from scipy.optimize import linprog\n",
    "\n",
    "c = [-5.5, -2.1]\n",
    "A = [[-1, 1], [8, 2], [1, 0]]\n",
    "b = [2, 17, 1]\n",
    "\n",
    "x0_bounds = (None, None)\n",
    "x1_bounds = (0, None)\n",
    "\n",
    "res = linprog(c, A_ub=A, b_ub=b, bounds=[x0_bounds, x1_bounds])\n",
    "\n",
    "print('Gia tri toi uu =', res.fun)\n",
    "print('Bien toi uu =', res.x)"
   ]
  },
  {
   "cell_type": "markdown",
   "metadata": {},
   "source": [
    "- Với $x_1 \\geq 2$"
   ]
  },
  {
   "cell_type": "markdown",
   "metadata": {},
   "source": [
    "$$\n",
    "\\begin{split}\n",
    "    (P_2) \\quad z_2= & 5.5x_1 + 2.1x_2  \\\\\n",
    "    & \\left\\{\\begin{split}\n",
    "    & -x_1 + x_2 \\leq 2 \\\\\n",
    "    & 8x_1 + 2x_2 \\leq 17 \\\\\n",
    "    & \\color{blue} x_1 \\geq 2 \\\\\n",
    "    &x_1 \\geq 0, \\text{nguyên} \\\\\n",
    "    &x_2 \\geq 0. \\\\\n",
    "    \\end{split}\\right. \\\\\n",
    "\\end{split}\n",
    "$$"
   ]
  },
  {
   "cell_type": "code",
   "execution_count": null,
   "metadata": {},
   "outputs": [
    {
     "name": "stdout",
     "output_type": "stream",
     "text": [
      "Gia tri toi uu = -12.05\n",
      "Bien toi uu = [2.  0.5]\n"
     ]
    }
   ],
   "source": [
    "from scipy.optimize import linprog\n",
    "\n",
    "c = [-5.5, -2.1]\n",
    "A = [[-1, 1], [8, 2], [-1, 0]]\n",
    "b = [2, 17, -2]\n",
    "\n",
    "x0_bounds = (None, None)\n",
    "x1_bounds = (0, None)\n",
    "\n",
    "res = linprog(c, A_ub=A, b_ub=b, bounds=[x0_bounds, x1_bounds])\n",
    "\n",
    "print('Gia tri toi uu =', res.fun)\n",
    "print('Bien toi uu =', res.x)"
   ]
  },
  {
   "cell_type": "markdown",
   "metadata": {},
   "source": [
    "Chọn $x_2=0.5$ để cải thiện phương án cho $P_2$\n",
    "- Với $x_2 \\leq 0$"
   ]
  },
  {
   "cell_type": "markdown",
   "metadata": {},
   "source": [
    "$$\n",
    "\\begin{split}\n",
    "    (P_3) \\quad z_3= & 5.5x_1 + 2.1x_2 \\\\\n",
    "    & \\left\\{\\begin{split}\n",
    "    & -x_1 + x_2 \\leq 2 \\\\\n",
    "    & 8x_1 + 2x_2 \\leq 17 \\\\\n",
    "    & \\color{blue} x_1 \\geq 2 \\\\\n",
    "    & \\color{blue} x_2 \\leq 0 \\\\\n",
    "    &x_1 \\geq 0, \\text{nguyên} \\\\\n",
    "    &x_2 \\geq 0. \\\\\n",
    "    \\end{split}\\right. \\\\\n",
    "\\end{split}\n",
    "$$"
   ]
  },
  {
   "cell_type": "code",
   "execution_count": null,
   "metadata": {},
   "outputs": [
    {
     "name": "stdout",
     "output_type": "stream",
     "text": [
      "Gia tri toi uu = -11.6875\n",
      "Bien toi uu = [ 2.125 -0.   ]\n"
     ]
    }
   ],
   "source": [
    "from scipy.optimize import linprog\n",
    "\n",
    "c = [-5.5, -2.1]\n",
    "A = [[-1, 1], [8, 2], [-1, 0], [0, 1]]\n",
    "b = [2, 17, -2, 0]\n",
    "\n",
    "x0_bounds = (None, None)\n",
    "x1_bounds = (0, None)\n",
    "\n",
    "res = linprog(c, A_ub=A, b_ub=b, bounds=[x0_bounds, x1_bounds])\n",
    "\n",
    "print('Gia tri toi uu =', res.fun)\n",
    "print('Bien toi uu =', res.x)"
   ]
  },
  {
   "cell_type": "markdown",
   "metadata": {},
   "source": [
    "- Với $x_2 \\geq 1$"
   ]
  },
  {
   "cell_type": "markdown",
   "metadata": {},
   "source": [
    "$$\n",
    "\\begin{split}\n",
    "    (P_4) \\quad z_4= & 5.5x_1 + 2.1x_2  \\\\\n",
    "    & \\left\\{\\begin{split}\n",
    "    & -x_1 + x_2 \\leq 2 \\\\\n",
    "    & 8x_1 + 2x_2 \\leq 17 \\\\\n",
    "    & \\color{blue} x_1 \\geq 2 \\\\\n",
    "    & \\color{blue} x_2 \\geq 1 \\\\\n",
    "    &x_1 \\geq 0, \\text{nguyên} \\\\\n",
    "    &x_2 \\geq 0. \\\\\n",
    "    \\end{split}\\right. \\\\\n",
    "\\end{split}\n",
    "$$"
   ]
  },
  {
   "cell_type": "code",
   "execution_count": null,
   "metadata": {},
   "outputs": [
    {
     "name": "stdout",
     "output_type": "stream",
     "text": [
      "Gia tri toi uu = None\n",
      "Bien toi uu = None\n"
     ]
    }
   ],
   "source": [
    "from scipy.optimize import linprog\n",
    "\n",
    "c = [-5.5, -2.1]\n",
    "A = [[-1, 1], [8, 2], [-1, 0], [0, -1]]\n",
    "b = [2, 17, -2, -1]\n",
    "\n",
    "x0_bounds = (None, None)\n",
    "x1_bounds = (0, None)\n",
    "\n",
    "res = linprog(c, A_ub=A, b_ub=b, bounds=[x0_bounds, x1_bounds])\n",
    "\n",
    "print('Gia tri toi uu =', res.fun)\n",
    "print('Bien toi uu =', res.x)"
   ]
  },
  {
   "cell_type": "markdown",
   "metadata": {},
   "source": [
    "---"
   ]
  }
 ],
 "metadata": {
  "kernelspec": {
   "display_name": "Python 3",
   "language": "python",
   "name": "python3"
  },
  "language_info": {
   "codemirror_mode": {
    "name": "ipython",
    "version": 3
   },
   "file_extension": ".py",
   "mimetype": "text/x-python",
   "name": "python",
   "nbconvert_exporter": "python",
   "pygments_lexer": "ipython3",
   "version": "3.9.6"
  },
  "orig_nbformat": 4
 },
 "nbformat": 4,
 "nbformat_minor": 2
}
