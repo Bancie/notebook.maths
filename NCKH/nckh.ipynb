{
 "cells": [
  {
   "cell_type": "markdown",
   "metadata": {},
   "source": [
    "# HiGHS"
   ]
  },
  {
   "cell_type": "code",
   "execution_count": 2,
   "metadata": {},
   "outputs": [
    {
     "ename": "ModuleNotFoundError",
     "evalue": "No module named 'highspy'",
     "output_type": "error",
     "traceback": [
      "\u001b[0;31m---------------------------------------------------------------------------\u001b[0m",
      "\u001b[0;31mModuleNotFoundError\u001b[0m                       Traceback (most recent call last)",
      "\u001b[1;32m/Users/chibangnguyen/Documents/GitHub/Bancie.github.io/notebook.maths/NCKH/nckh.ipynb Cell 2\u001b[0m line \u001b[0;36m4\n\u001b[1;32m      <a href='vscode-notebook-cell:/Users/chibangnguyen/Documents/GitHub/Bancie.github.io/notebook.maths/NCKH/nckh.ipynb#W0sZmlsZQ%3D%3D?line=0'>1</a>\u001b[0m \u001b[39m# This example cannot be run with the version (1.5.3) of highspy\u001b[39;00m\n\u001b[1;32m      <a href='vscode-notebook-cell:/Users/chibangnguyen/Documents/GitHub/Bancie.github.io/notebook.maths/NCKH/nckh.ipynb#W0sZmlsZQ%3D%3D?line=1'>2</a>\u001b[0m \u001b[39m# available from PyPI. It requires a local installation of highspy for\u001b[39;00m\n\u001b[1;32m      <a href='vscode-notebook-cell:/Users/chibangnguyen/Documents/GitHub/Bancie.github.io/notebook.maths/NCKH/nckh.ipynb#W0sZmlsZQ%3D%3D?line=2'>3</a>\u001b[0m \u001b[39m# (at least) HiGHS versoin 1.6.0\u001b[39;00m\n\u001b[0;32m----> <a href='vscode-notebook-cell:/Users/chibangnguyen/Documents/GitHub/Bancie.github.io/notebook.maths/NCKH/nckh.ipynb#W0sZmlsZQ%3D%3D?line=3'>4</a>\u001b[0m \u001b[39mimport\u001b[39;00m \u001b[39mhighspy\u001b[39;00m\n\u001b[1;32m      <a href='vscode-notebook-cell:/Users/chibangnguyen/Documents/GitHub/Bancie.github.io/notebook.maths/NCKH/nckh.ipynb#W0sZmlsZQ%3D%3D?line=5'>6</a>\u001b[0m h \u001b[39m=\u001b[39m highspy\u001b[39m.\u001b[39mHighs()\n\u001b[1;32m      <a href='vscode-notebook-cell:/Users/chibangnguyen/Documents/GitHub/Bancie.github.io/notebook.maths/NCKH/nckh.ipynb#W0sZmlsZQ%3D%3D?line=7'>8</a>\u001b[0m x1 \u001b[39m=\u001b[39m h\u001b[39m.\u001b[39maddVar(lb\u001b[39m=\u001b[39m\u001b[39m-\u001b[39mh\u001b[39m.\u001b[39minf)\n",
      "\u001b[0;31mModuleNotFoundError\u001b[0m: No module named 'highspy'"
     ]
    }
   ],
   "source": [
    "# This example cannot be run with the version (1.5.3) of highspy\n",
    "# available from PyPI. It requires a local installation of highspy for\n",
    "# (at least) HiGHS versoin 1.6.0\n",
    "import highspy\n",
    "\n",
    "h = highspy.Highs()\n",
    "\n",
    "x1 = h.addVar(lb=-h.inf)\n",
    "x2 = h.addVar(lb=-h.inf)\n",
    "\n",
    "h.addConstr(x2 - x1 >= 2)\n",
    "h.addConstr(x1 + x2 >= 0)\n",
    "\n",
    "h.minimize(x2)"
   ]
  }
 ],
 "metadata": {
  "kernelspec": {
   "display_name": "Python 3",
   "language": "python",
   "name": "python3"
  },
  "language_info": {
   "codemirror_mode": {
    "name": "ipython",
    "version": 3
   },
   "file_extension": ".py",
   "mimetype": "text/x-python",
   "name": "python",
   "nbconvert_exporter": "python",
   "pygments_lexer": "ipython3",
   "version": "3.9.6"
  },
  "orig_nbformat": 4
 },
 "nbformat": 4,
 "nbformat_minor": 2
}
