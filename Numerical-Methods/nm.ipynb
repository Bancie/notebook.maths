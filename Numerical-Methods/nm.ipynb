{
 "cells": [
  {
   "cell_type": "markdown",
   "metadata": {},
   "source": [
    "<h1 style=\"text-align: center;\">GIẢI TÍCH SỐ</h1>"
   ]
  },
  {
   "cell_type": "markdown",
   "metadata": {},
   "source": [
    "---"
   ]
  },
  {
   "cell_type": "markdown",
   "metadata": {},
   "source": [
    "## Tóm tắt nội dung\n",
    " \n",
    "- ~~**Sai số**~~\n",
    "- **Nội suy**\n",
    "    - ~~Lagrange~~\n",
    "    - Newton\n",
    "    - Bình phương tối thiểu\n",
    "- **Tính gần đúng Đạo hàm & tích phân xác định**\n",
    "    - Hình thang\n",
    "    - Simpson\n",
    "- **Tính gần đúng Nghiệm thực phương trình phi tuyến**\n",
    "    - ~~Chia đôi~~\n",
    "    - Lặp đơn\n",
    "    - Newton-Raphson\n",
    "    - Dây cung\n",
    "- **Tính gần đúng Hệ phương trình tuyến tính**\n",
    "    - Gauss\n",
    "    - Lặp đơn"
   ]
  },
  {
   "cell_type": "markdown",
   "metadata": {},
   "source": [
    "## Nguồn ôn tập & Tra cứu\n",
    "- [Google photos](https://photos.app.goo.gl/L6JDrnBXUGTJhcJa9)\n",
    "- [File Bài tập & Đề thi](https://drive.google.com/drive/folders/1PdZhXawBmx79kxpKBRwYbAc_UoxyRS1o?usp=sharing)\n",
    "- Numerical Methods for Engineers - Steven .C Chapra & Raymond P .Canale"
   ]
  },
  {
   "cell_type": "markdown",
   "metadata": {},
   "source": [
    "---"
   ]
  },
  {
   "cell_type": "markdown",
   "metadata": {},
   "source": [
    "## Sai số"
   ]
  },
  {
   "cell_type": "markdown",
   "metadata": {},
   "source": [
    "$$\n",
    "\\delta_a = \\frac{\\Delta_a}{|a|} \\: , \\: \\: \\: |a-A| \\leq \\Delta_a\n",
    "$$"
   ]
  },
  {
   "cell_type": "markdown",
   "metadata": {},
   "source": [
    "## Nội suy\n",
    "### Lagrange "
   ]
  },
  {
   "cell_type": "markdown",
   "metadata": {},
   "source": [
    "$$\n",
    "\\begin{split}\n",
    "P_n(x) &= \\sum_{i=0}^n y_i l_i(x) \\\\\n",
    "\\: \\\\\n",
    "\\text{trong đó} \\:\\:\\: l_i(x)&=\\prod_{j=0, j\\neq 1}^n \\frac{x-x_j}{x_i-x_j}\n",
    "\\end{split} \n",
    "$$"
   ]
  },
  {
   "cell_type": "markdown",
   "metadata": {},
   "source": [
    "### Newton"
   ]
  },
  {
   "cell_type": "markdown",
   "metadata": {},
   "source": [
    "- Sai phân tiến\n",
    "$$\n",
    "\\begin{split}\n",
    "f_n(x) &= f(x_0)+ (x-x_0)f[x_1,x_0]+ (x-x_0)(x-x_1)f[x_2,x_1,x_0] \\\\\n",
    "&+ \\ldots + (x-x_0)\\ldots (x-x_{n-1})f[x_n,x_{n-1},\\ldots , x_0] \\\\\n",
    "\\: \\\\\n",
    "f[x_n,&x_{n-1},\\ldots ,x_0] = \\frac{f[x_n,x_{n-1},\\ldots ,x_1]-f[x_{n-1},\\ldots ,x_0]}{x_n-x_0}\n",
    "\\end{split}\n",
    "$$"
   ]
  },
  {
   "cell_type": "markdown",
   "metadata": {},
   "source": [
    "- Sai phân lùi"
   ]
  },
  {
   "cell_type": "markdown",
   "metadata": {},
   "source": [
    "$$\n",
    "\\begin{split}\n",
    "P_n(x) &= y_n + (x-x_n) + f[x_n,x_{n-1}] + (x-x_n)(x-x_{n-1})f[x_n,x_{n-1},x_{n-2}] \\\\\n",
    "\\: \\\\\n",
    "&+ \\ldots + (x-x_n) \\ldots (x-x_1)f[x_n,x_{n-1}, \\ldots , x_0] \\\\\n",
    "\\end{split}\n",
    "$$"
   ]
  },
  {
   "cell_type": "markdown",
   "metadata": {},
   "source": [
    "## Bình phương tối thiểu"
   ]
  },
  {
   "cell_type": "markdown",
   "metadata": {},
   "source": [
    "$$\n",
    "\\begin{split}\n",
    "y_i &= a + bx_i \\\\\n",
    "\\rightarrow \\varepsilon _i &= y_i - a -bx_i \\\\\n",
    "\\end{split} \\\\\n",
    "S = \\sum _{i=0}^n \\varepsilon _i^2 = \\sum _{i=0}^n (y_i - a - bx_i)^2 \\\\\n",
    "S_{\\text{min}} \\Rightarrow\n",
    "\\left\\{\n",
    "  \\begin{array}{rcr}\n",
    "  S_a^{'} &=& 0 \\\\\n",
    "  S_b^{'} &=& 0\n",
    "  \\end{array}\n",
    "\\right.\n",
    "\\Rightarrow\n",
    "\\left\\{\n",
    "  \\begin{array}{rcr}\n",
    "  na + b \\sum x_i &=& \\sum y_i \\\\\n",
    "  a \\sum x_i + b \\sum x_i^2 &=& \\sum x_i y_i\n",
    "  \\end{array}\n",
    "\\right.\n",
    "$$"
   ]
  }
 ],
 "metadata": {
  "kernelspec": {
   "display_name": "Python 3",
   "language": "python",
   "name": "python3"
  },
  "language_info": {
   "codemirror_mode": {
    "name": "ipython",
    "version": 3
   },
   "file_extension": ".py",
   "mimetype": "text/x-python",
   "name": "python",
   "nbconvert_exporter": "python",
   "pygments_lexer": "ipython3",
   "version": "3.9.6"
  },
  "orig_nbformat": 4
 },
 "nbformat": 4,
 "nbformat_minor": 2
}
