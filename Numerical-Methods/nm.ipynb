{
 "cells": [
  {
   "cell_type": "markdown",
   "metadata": {},
   "source": [
    "# Giải tích số"
   ]
  },
  {
   "cell_type": "markdown",
   "metadata": {},
   "source": [
    "## Nội dung\n",
    "\n",
    "- **Sai số**\n",
    "- **Nội suy**\n",
    "    - Lagrange\n",
    "    - Newton\n",
    "    - Bình phương tối thiểu\n",
    "- **Tính gần đúng Đạo hàm & tích phân xác định**\n",
    "    - Hình thang\n",
    "    - Simpson\n",
    "- **Tính gần đúng Nghiệm thực phương trình phi tuyến**\n",
    "    - Chia đôi\n",
    "    - Lặp đơn\n",
    "    - Newton-Raphson\n",
    "    - Dây cung\n",
    "- **Tính gần đúng Hệ phương trình tuyến tính**\n",
    "    - Gauss\n",
    "    - Lặp đơn"
   ]
  },
  {
   "cell_type": "markdown",
   "metadata": {},
   "source": [
    "## Nguồn ôn tập\n",
    "- [Kho hình ảnh](https://photos.app.goo.gl/L6JDrnBXUGTJhcJa9)\n",
    "- Numerical Methods for Engineers - Steven .C Chapra & Raymond P .Canale"
   ]
  }
 ],
 "metadata": {
  "language_info": {
   "name": "python"
  },
  "orig_nbformat": 4
 },
 "nbformat": 4,
 "nbformat_minor": 2
}
