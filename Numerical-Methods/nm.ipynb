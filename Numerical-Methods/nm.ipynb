{
 "cells": [
  {
   "cell_type": "markdown",
   "metadata": {},
   "source": [
    "<h1 style=\"text-align: center;\">GIẢI TÍCH SỐ</h1>"
   ]
  },
  {
   "cell_type": "markdown",
   "metadata": {},
   "source": [
    "## Tóm tắt nội dung\n",
    "\n",
    "- **Sai số**\n",
    "- **Nội suy**\n",
    "    - Lagrange\n",
    "    - Newton\n",
    "    - Bình phương tối thiểu\n",
    "- **Tính gần đúng Đạo hàm & tích phân xác định**\n",
    "    - Hình thang\n",
    "    - Simpson\n",
    "- **Tính gần đúng Nghiệm thực phương trình phi tuyến**\n",
    "    - Chia đôi\n",
    "    - Lặp đơn\n",
    "    - Newton-Raphson\n",
    "    - Dây cung\n",
    "- **Tính gần đúng Hệ phương trình tuyến tính**\n",
    "    - Gauss\n",
    "    - Lặp đơn"
   ]
  },
  {
   "cell_type": "markdown",
   "metadata": {},
   "source": [
    "## Nguồn ôn tập & Tra cứu\n",
    "- [Google photos](https://photos.app.goo.gl/L6JDrnBXUGTJhcJa9)\n",
    "- [File Bài tập & Đề thi](https://drive.google.com/drive/folders/1PdZhXawBmx79kxpKBRwYbAc_UoxyRS1o?usp=sharing)\n",
    "- Numerical Methods for Engineers - Steven .C Chapra & Raymond P .Canale"
   ]
  }
 ],
 "metadata": {
  "language_info": {
   "name": "python"
  },
  "orig_nbformat": 4
 },
 "nbformat": 4,
 "nbformat_minor": 2
}
